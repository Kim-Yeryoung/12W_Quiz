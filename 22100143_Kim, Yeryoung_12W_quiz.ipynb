{
 "cells": [
  {
   "cell_type": "code",
   "execution_count": null,
   "metadata": {},
   "outputs": [
    {
     "name": "stdout",
     "output_type": "stream",
     "text": [
      "<class 'pandas.core.frame.DataFrame'>\n",
      "RangeIndex: 9491 entries, 0 to 9490\n",
      "Data columns (total 8 columns):\n",
      " #   Column           Non-Null Count  Dtype  \n",
      "---  ------           --------------  -----  \n",
      " 0   날짜               9491 non-null   object \n",
      " 1   측정소명             9491 non-null   object \n",
      " 2   미세먼지             9278 non-null   float64\n",
      " 3   초미세먼지            9288 non-null   float64\n",
      " 4   오존               9294 non-null   float64\n",
      " 5   이산화질소\n",
      "NO2 (ppm)  9285 non-null   float64\n",
      " 6   일산화탄소\n",
      "CO (ppm)   9234 non-null   float64\n",
      " 7   아황산가스\n",
      "SO2(ppm)   9298 non-null   float64\n",
      "dtypes: float64(6), object(2)\n",
      "memory usage: 593.3+ KB\n",
      "None\n",
      "              미세먼지        초미세먼지           오존  이산화질소\\nNO2 (ppm)  \\\n",
      "count  9278.000000  9288.000000  9294.000000       9285.000000   \n",
      "mean     41.748006    24.921619     0.024771          0.028068   \n",
      "std      26.742015    18.410941     0.013191          0.012733   \n",
      "min       3.000000     1.000000     0.001000          0.001000   \n",
      "25%      24.000000    14.000000     0.014000          0.018000   \n",
      "50%      36.000000    21.000000     0.024000          0.026000   \n",
      "75%      52.000000    30.000000     0.034000          0.036000   \n",
      "max     228.000000   153.000000     0.088000          0.089000   \n",
      "\n",
      "       일산화탄소\\nCO (ppm)  아황산가스\\nSO2(ppm)  \n",
      "count      9234.000000      9298.000000  \n",
      "mean          0.530626         0.003951  \n",
      "std           0.218623         0.001302  \n",
      "min           0.100000         0.001000  \n",
      "25%           0.400000         0.003000  \n",
      "50%           0.500000         0.004000  \n",
      "75%           0.600000         0.005000  \n",
      "max           2.000000         0.010000  \n"
     ]
    }
   ],
   "source": [
    "import pandas as pd\n",
    "\n",
    "\n",
    "#파일 넣기기\n",
    "input_file = \"서울대기오염_2019\"\n",
    "\n",
    "#1. 파일 확인: \n",
    "df = pd.read_excel(input_file)\n",
    "\n",
    "print(df.info())\n",
    "print(df.isnull().sum())\n",
    "\n",
    "df"
   ]
  },
  {
   "cell_type": "code",
   "execution_count": 7,
   "metadata": {},
   "outputs": [
    {
     "data": {
      "text/plain": [
       "날짜                    0\n",
       "측정소명                  0\n",
       "미세먼지                213\n",
       "초미세먼지               203\n",
       "오존                  197\n",
       "이산화질소\\nNO2 (ppm)    206\n",
       "일산화탄소\\nCO (ppm)     257\n",
       "아황산가스\\nSO2(ppm)     193\n",
       "dtype: int64"
      ]
     },
     "execution_count": 7,
     "metadata": {},
     "output_type": "execute_result"
    }
   ],
   "source": [
    "df.isnull().sum()"
   ]
  }
 ],
 "metadata": {
  "kernelspec": {
   "display_name": "Python 3",
   "language": "python",
   "name": "python3"
  },
  "language_info": {
   "codemirror_mode": {
    "name": "ipython",
    "version": 3
   },
   "file_extension": ".py",
   "mimetype": "text/x-python",
   "name": "python",
   "nbconvert_exporter": "python",
   "pygments_lexer": "ipython3",
   "version": "3.13.2"
  }
 },
 "nbformat": 4,
 "nbformat_minor": 2
}
